{
  "nbformat": 4,
  "nbformat_minor": 0,
  "metadata": {
    "colab": {
      "provenance": [],
      "authorship_tag": "ABX9TyOtHYCqn+WnUVw6j3E/Cpd4",
      "include_colab_link": true
    },
    "kernelspec": {
      "name": "python3",
      "display_name": "Python 3"
    },
    "language_info": {
      "name": "python"
    }
  },
  "cells": [
    {
      "cell_type": "markdown",
      "metadata": {
        "id": "view-in-github",
        "colab_type": "text"
      },
      "source": [
        "<a href=\"https://colab.research.google.com/github/supriya-301iit/supriya-301iit/blob/main/Assignment2.ipynb\" target=\"_parent\"><img src=\"https://colab.research.google.com/assets/colab-badge.svg\" alt=\"Open In Colab\"/></a>"
      ]
    },
    {
      "cell_type": "markdown",
      "source": [
        "#Q1\n"
      ],
      "metadata": {
        "id": "epZI41xO-5tW"
      }
    },
    {
      "cell_type": "markdown",
      "source": [
        "1. Bollinger Bands"
      ],
      "metadata": {
        "id": "ulC5u3A__DW2"
      }
    },
    {
      "cell_type": "code",
      "execution_count": 2,
      "metadata": {
        "id": "G3X22ufN-GAa"
      },
      "outputs": [],
      "source": [
        "def bollinger_bands(df, window=20, num_std=2):\n",
        "    df['MA'] = df['Close'].rolling(window).mean()\n",
        "    df['BB_Upper'] = df['MA'] + num_std * df['Close'].rolling(window).std()\n",
        "    df['BB_Lower'] = df['MA'] - num_std * df['Close'].rolling(window).std()\n",
        "    return df\n"
      ]
    },
    {
      "cell_type": "markdown",
      "source": [
        "2.MACD"
      ],
      "metadata": {
        "id": "UmTOIZ51DFmx"
      }
    },
    {
      "cell_type": "code",
      "source": [
        "def macd(df, fast=12, slow=26, signal=9):\n",
        "    df['EMA_fast'] = df['Close'].ewm(span=fast, adjust=False).mean()\n",
        "    df['EMA_slow'] = df['Close'].ewm(span=slow, adjust=False).mean()\n",
        "    df['MACD'] = df['EMA_fast'] - df['EMA_slow']\n",
        "    df['MACD_Signal'] = df['MACD'].ewm(span=signal, adjust=False).mean()\n",
        "    return df\n"
      ],
      "metadata": {
        "id": "dUHL2qYyDLY4"
      },
      "execution_count": 1,
      "outputs": []
    },
    {
      "cell_type": "markdown",
      "source": [
        "3.Stochastic Oscillator"
      ],
      "metadata": {
        "id": "F6ligKfADQni"
      }
    },
    {
      "cell_type": "code",
      "source": [
        "def stochastic_oscillator(df, k_period=14, d_period=3):\n",
        "    low_min = df['Low'].rolling(window=k_period).min()\n",
        "    high_max = df['High'].rolling(window=k_period).max()\n",
        "    df['%K'] = 100 * ((df['Close'] - low_min) / (high_max - low_min))\n",
        "    df['%D'] = df['%K'].rolling(window=d_period).mean()\n",
        "    return df\n"
      ],
      "metadata": {
        "id": "-uJ7AX6qDP58"
      },
      "execution_count": 3,
      "outputs": []
    },
    {
      "cell_type": "markdown",
      "source": [
        "4. VWAP"
      ],
      "metadata": {
        "id": "EiLRqiqbDidW"
      }
    },
    {
      "cell_type": "code",
      "source": [
        "def vwap(df):\n",
        "    cum_vol_price = (df['Close'] * df['Volume']).cumsum()\n",
        "    cum_volume = df['Volume'].cumsum()\n",
        "    df['VWAP'] = cum_vol_price / cum_volume\n",
        "    return df\n"
      ],
      "metadata": {
        "id": "lcyXcnI4DqSt"
      },
      "execution_count": 4,
      "outputs": []
    },
    {
      "cell_type": "markdown",
      "source": [
        "5.RSI"
      ],
      "metadata": {
        "id": "_5t4iLyuDwn8"
      }
    },
    {
      "cell_type": "code",
      "source": [
        "def rsi(df, period=14):\n",
        "    delta = df['Close'].diff()\n",
        "    gain = (delta.where(delta > 0, 0)).rolling(window=period).mean()\n",
        "    loss = (-delta.where(delta < 0, 0)).rolling(window=period).mean()\n",
        "    rs = gain / loss\n",
        "    df['RSI'] = 100 - (100 / (1 + rs))\n",
        "    return df\n"
      ],
      "metadata": {
        "id": "GZvBTwHbD2Ag"
      },
      "execution_count": 5,
      "outputs": []
    },
    {
      "cell_type": "markdown",
      "source": [
        "6.ATR"
      ],
      "metadata": {
        "id": "z0y99qo9D8Nb"
      }
    },
    {
      "cell_type": "code",
      "source": [
        "def atr(df, period=14):\n",
        "    df['H-L'] = df['High'] - df['Low']\n",
        "    df['H-PC'] = abs(df['High'] - df['Close'].shift())\n",
        "    df['L-PC'] = abs(df['Low'] - df['Close'].shift())\n",
        "    df['TR'] = df[['H-L', 'H-PC', 'L-PC']].max(axis=1)\n",
        "    df['ATR'] = df['TR'].rolling(window=period).mean()\n",
        "    return df\n"
      ],
      "metadata": {
        "id": "z2c-2ZbgECg3"
      },
      "execution_count": 6,
      "outputs": []
    },
    {
      "cell_type": "markdown",
      "source": [
        "#Q2"
      ],
      "metadata": {
        "id": "YMMTUSIXELqU"
      }
    },
    {
      "cell_type": "markdown",
      "source": [
        "1. Bollinger Bands"
      ],
      "metadata": {
        "id": "3TFxIVc5ElUU"
      }
    },
    {
      "cell_type": "code",
      "source": [
        "def signal_bollinger_bands(df):\n",
        "    buy = (df['Close'] < df['BB_Lower'])\n",
        "    sell = (df['Close'] > df['BB_Upper'])\n",
        "\n",
        "    df['BB_Signal'] = 0\n",
        "    df.loc[buy, 'BB_Signal'] = 1\n",
        "    df.loc[sell, 'BB_Signal'] = -1\n",
        "\n",
        "    print(\"Bollinger Bands - Buy Signals:\", buy.sum(), \"Sell Signals:\", sell.sum())\n",
        "    return df\n"
      ],
      "metadata": {
        "id": "UvCHxmF-EPSp"
      },
      "execution_count": 7,
      "outputs": []
    },
    {
      "cell_type": "markdown",
      "source": [
        "2.MACD"
      ],
      "metadata": {
        "id": "OAZEKT6BE7UL"
      }
    },
    {
      "cell_type": "code",
      "source": [
        "def signal_macd(df):\n",
        "    buy = (df['MACD'] > df['MACD_Signal']) & (df['MACD'].shift() <= df['MACD_Signal'].shift())\n",
        "    sell = (df['MACD'] < df['MACD_Signal']) & (df['MACD'].shift() >= df['MACD_Signal'].shift())\n",
        "\n",
        "    df['MACD_Signal_Flag'] = 0\n",
        "    df.loc[buy, 'MACD_Signal_Flag'] = 1\n",
        "    df.loc[sell, 'MACD_Signal_Flag'] = -1\n",
        "\n",
        "    print(\"MACD - Buy Signals:\", buy.sum(), \"Sell Signals:\", sell.sum())\n",
        "    return df\n"
      ],
      "metadata": {
        "id": "XVpuh2ijFBZb"
      },
      "execution_count": 8,
      "outputs": []
    },
    {
      "cell_type": "markdown",
      "source": [
        "3.Stochastic Oscillator"
      ],
      "metadata": {
        "id": "L_uzo9HBFTgv"
      }
    },
    {
      "cell_type": "code",
      "source": [
        "def signal_stochastic(df):\n",
        "    buy = (df['%K'] < 20) & (df['%D'] < 20) & (df['%K'] > df['%D'])\n",
        "    sell = (df['%K'] > 80) & (df['%D'] > 80) & (df['%K'] < df['%D'])\n",
        "\n",
        "    df['Stoch_Signal'] = 0\n",
        "    df.loc[buy, 'Stoch_Signal'] = 1\n",
        "    df.loc[sell, 'Stoch_Signal'] = -1\n",
        "\n",
        "    print(\"Stochastic Oscillator - Buy Signals:\", buy.sum(), \"Sell Signals:\", sell.sum())\n",
        "    return df\n"
      ],
      "metadata": {
        "id": "Jm_q6NyxFVNj"
      },
      "execution_count": 9,
      "outputs": []
    },
    {
      "cell_type": "markdown",
      "source": [
        "4. VWAP"
      ],
      "metadata": {
        "id": "lAD_OZw1FeKb"
      }
    },
    {
      "cell_type": "code",
      "source": [
        "def signal_vwap(df):\n",
        "    buy = (df['Close'] > df['VWAP']) & (df['Close'].shift() <= df['VWAP'].shift())\n",
        "    sell = (df['Close'] < df['VWAP']) & (df['Close'].shift() >= df['VWAP'].shift())\n",
        "\n",
        "    df['VWAP_Signal'] = 0\n",
        "    df.loc[buy, 'VWAP_Signal'] = 1\n",
        "    df.loc[sell, 'VWAP_Signal'] = -1\n",
        "\n",
        "    print(\"VWAP - Buy Signals:\", buy.sum(), \"Sell Signals:\", sell.sum())\n",
        "    return df\n"
      ],
      "metadata": {
        "id": "etDPuPXEFfm9"
      },
      "execution_count": 10,
      "outputs": []
    },
    {
      "cell_type": "markdown",
      "source": [
        "5.RSI"
      ],
      "metadata": {
        "id": "-ZRZuMrYFm5z"
      }
    },
    {
      "cell_type": "code",
      "source": [
        "def signal_rsi(df):\n",
        "    buy = df['RSI'] < 30\n",
        "    sell = df['RSI'] > 70\n",
        "\n",
        "    df['RSI_Signal'] = 0\n",
        "    df.loc[buy, 'RSI_Signal'] = 1\n",
        "    df.loc[sell, 'RSI_Signal'] = -1\n",
        "\n",
        "    print(\"RSI - Buy Signals:\", buy.sum(), \"Sell Signals:\", sell.sum())\n",
        "    return df\n"
      ],
      "metadata": {
        "id": "Mf8nJZp6FqOf"
      },
      "execution_count": 11,
      "outputs": []
    },
    {
      "cell_type": "markdown",
      "source": [
        "6.ATR"
      ],
      "metadata": {
        "id": "F5okqEBVFvEf"
      }
    },
    {
      "cell_type": "code",
      "source": [
        "def signal_atr(df, multiplier=1.5):\n",
        "    df['ATR_Upper'] = df['Close'].shift(1) + multiplier * df['ATR']\n",
        "    df['ATR_Lower'] = df['Close'].shift(1) - multiplier * df['ATR']\n",
        "\n",
        "    buy = df['Close'] > df['ATR_Upper']\n",
        "    sell = df['Close'] < df['ATR_Lower']\n",
        "\n",
        "    df['ATR_Signal'] = 0\n",
        "    df.loc[buy, 'ATR_Signal'] = 1\n",
        "    df.loc[sell, 'ATR_Signal'] = -1\n",
        "\n",
        "    print(\"ATR Breakout - Buy Signals:\", buy.sum(), \"Sell Signals:\", sell.sum())\n",
        "    return df\n"
      ],
      "metadata": {
        "id": "W2Y3eh1gFwww"
      },
      "execution_count": 12,
      "outputs": []
    },
    {
      "cell_type": "markdown",
      "source": [
        "#Q3"
      ],
      "metadata": {
        "id": "OgKVeAfRHtWi"
      }
    },
    {
      "cell_type": "code",
      "source": [
        "def backtest_engine(df, signal_column='Final_Signal', initial_capital=1000, max_short_days=5):\n",
        "    capital = initial_capital\n",
        "    position = None\n",
        "    entry_price = 0\n",
        "    entry_day = 0\n",
        "    trades = []\n",
        "\n",
        "    df = df.reset_index(drop=True)\n",
        "\n",
        "    for i in range(len(df)):\n",
        "        price = df.loc[i, 'Close']\n",
        "        signal = df.loc[i, signal_column]\n",
        "\n",
        "        # === Entry Logic ===\n",
        "        if position is None:\n",
        "            if signal == 1:\n",
        "                # Long Entry\n",
        "                position = 'long'\n",
        "                entry_price = price\n",
        "                entry_day = i\n",
        "            elif signal == -1:\n",
        "                # Short Entry\n",
        "                position = 'short'\n",
        "                entry_price = price\n",
        "                entry_day = i\n",
        "\n",
        "        # === Exit Logic ===\n",
        "        elif position == 'long':\n",
        "            if signal == -1 or i == len(df) - 1:\n",
        "                # Close Long\n",
        "                exit_price = price\n",
        "                pnl = (exit_price / entry_price) * capital\n",
        "                trades.append(('long', entry_day, i, entry_price, exit_price, pnl))\n",
        "                capital = pnl\n",
        "                position = None\n",
        "\n",
        "        elif position == 'short':\n",
        "            if signal == 1 or (i - entry_day >= max_short_days) or i == len(df) - 1:\n",
        "                # Close Short\n",
        "                exit_price = price\n",
        "                pnl = (entry_price / exit_price) * capital\n",
        "                trades.append(('short', entry_day, i, entry_price, exit_price, pnl))\n",
        "                capital = pnl\n",
        "                position = None\n",
        "\n",
        "    # Print summary\n",
        "    print(f\"Final Capital: ₹{capital:.2f}\")\n",
        "    print(f\"Total Trades: {len(trades)}\")\n",
        "    long_trades = [t for t in trades if t[0] == 'long']\n",
        "    short_trades = [t for t in trades if t[0] == 'short']\n",
        "    print(f\"Long Trades: {len(long_trades)} | Short Trades: {len(short_trades)}\")\n",
        "\n",
        "    return trades, capital\n"
      ],
      "metadata": {
        "id": "3JqrRyuhHv0K"
      },
      "execution_count": 13,
      "outputs": []
    }
  ]
}